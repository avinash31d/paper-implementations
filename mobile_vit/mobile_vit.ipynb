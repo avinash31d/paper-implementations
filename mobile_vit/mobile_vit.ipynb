{
  "nbformat": 4,
  "nbformat_minor": 0,
  "metadata": {
    "colab": {
      "name": "mobile_vit.ipynb",
      "provenance": [],
      "collapsed_sections": [
        "PjqxM7RrKhEB",
        "zafcuc7KoR2C",
        "8lxlDQIXpQiU"
      ]
    },
    "kernelspec": {
      "name": "python3",
      "display_name": "Python 3"
    },
    "language_info": {
      "name": "python"
    },
    "accelerator": "GPU",
    "widgets": {
      "application/vnd.jupyter.widget-state+json": {
        "10dbfda2d5b342eab0188070d969ee63": {
          "model_module": "@jupyter-widgets/controls",
          "model_name": "HBoxModel",
          "model_module_version": "1.5.0",
          "state": {
            "_view_name": "HBoxView",
            "_dom_classes": [],
            "_model_name": "HBoxModel",
            "_view_module": "@jupyter-widgets/controls",
            "_model_module_version": "1.5.0",
            "_view_count": null,
            "_view_module_version": "1.5.0",
            "box_style": "",
            "layout": "IPY_MODEL_7f3b6acb4324469289524539367fc81a",
            "_model_module": "@jupyter-widgets/controls",
            "children": [
              "IPY_MODEL_71c9e288679c4fd8acc3f23dc88be1b2",
              "IPY_MODEL_4d85757d9d904c6bbdc9a1ee2675772f",
              "IPY_MODEL_b73fe03d29694381869119bb984250e2"
            ]
          }
        },
        "7f3b6acb4324469289524539367fc81a": {
          "model_module": "@jupyter-widgets/base",
          "model_name": "LayoutModel",
          "model_module_version": "1.2.0",
          "state": {
            "_view_name": "LayoutView",
            "grid_template_rows": null,
            "right": null,
            "justify_content": null,
            "_view_module": "@jupyter-widgets/base",
            "overflow": null,
            "_model_module_version": "1.2.0",
            "_view_count": null,
            "flex_flow": null,
            "width": null,
            "min_width": null,
            "border": null,
            "align_items": null,
            "bottom": null,
            "_model_module": "@jupyter-widgets/base",
            "top": null,
            "grid_column": null,
            "overflow_y": null,
            "overflow_x": null,
            "grid_auto_flow": null,
            "grid_area": null,
            "grid_template_columns": null,
            "flex": null,
            "_model_name": "LayoutModel",
            "justify_items": null,
            "grid_row": null,
            "max_height": null,
            "align_content": null,
            "visibility": null,
            "align_self": null,
            "height": null,
            "min_height": null,
            "padding": null,
            "grid_auto_rows": null,
            "grid_gap": null,
            "max_width": null,
            "order": null,
            "_view_module_version": "1.2.0",
            "grid_template_areas": null,
            "object_position": null,
            "object_fit": null,
            "grid_auto_columns": null,
            "margin": null,
            "display": null,
            "left": null
          }
        },
        "71c9e288679c4fd8acc3f23dc88be1b2": {
          "model_module": "@jupyter-widgets/controls",
          "model_name": "HTMLModel",
          "model_module_version": "1.5.0",
          "state": {
            "_view_name": "HTMLView",
            "style": "IPY_MODEL_a8f10c948612491c8c34c6269a45d73e",
            "_dom_classes": [],
            "description": "",
            "_model_name": "HTMLModel",
            "placeholder": "​",
            "_view_module": "@jupyter-widgets/controls",
            "_model_module_version": "1.5.0",
            "value": "Dl Completed...: 100%",
            "_view_count": null,
            "_view_module_version": "1.5.0",
            "description_tooltip": null,
            "_model_module": "@jupyter-widgets/controls",
            "layout": "IPY_MODEL_8a999aa94c3041e6bffbe1f70d048efc"
          }
        },
        "4d85757d9d904c6bbdc9a1ee2675772f": {
          "model_module": "@jupyter-widgets/controls",
          "model_name": "FloatProgressModel",
          "model_module_version": "1.5.0",
          "state": {
            "_view_name": "ProgressView",
            "style": "IPY_MODEL_abad63d875724ff6a16efa3e2773cda7",
            "_dom_classes": [],
            "description": "",
            "_model_name": "FloatProgressModel",
            "bar_style": "success",
            "max": 1,
            "_view_module": "@jupyter-widgets/controls",
            "_model_module_version": "1.5.0",
            "value": 1,
            "_view_count": null,
            "_view_module_version": "1.5.0",
            "orientation": "horizontal",
            "min": 0,
            "description_tooltip": null,
            "_model_module": "@jupyter-widgets/controls",
            "layout": "IPY_MODEL_c3e65cd5364643068222566c27ea3d55"
          }
        },
        "b73fe03d29694381869119bb984250e2": {
          "model_module": "@jupyter-widgets/controls",
          "model_name": "HTMLModel",
          "model_module_version": "1.5.0",
          "state": {
            "_view_name": "HTMLView",
            "style": "IPY_MODEL_dc80a82a88f44460b92f63276cf10340",
            "_dom_classes": [],
            "description": "",
            "_model_name": "HTMLModel",
            "placeholder": "​",
            "_view_module": "@jupyter-widgets/controls",
            "_model_module_version": "1.5.0",
            "value": " 1/1 [00:29&lt;00:00, 29.60s/ url]",
            "_view_count": null,
            "_view_module_version": "1.5.0",
            "description_tooltip": null,
            "_model_module": "@jupyter-widgets/controls",
            "layout": "IPY_MODEL_45e39b81a25e4de692d07b102f8571ac"
          }
        },
        "a8f10c948612491c8c34c6269a45d73e": {
          "model_module": "@jupyter-widgets/controls",
          "model_name": "DescriptionStyleModel",
          "model_module_version": "1.5.0",
          "state": {
            "_view_name": "StyleView",
            "_model_name": "DescriptionStyleModel",
            "description_width": "",
            "_view_module": "@jupyter-widgets/base",
            "_model_module_version": "1.5.0",
            "_view_count": null,
            "_view_module_version": "1.2.0",
            "_model_module": "@jupyter-widgets/controls"
          }
        },
        "8a999aa94c3041e6bffbe1f70d048efc": {
          "model_module": "@jupyter-widgets/base",
          "model_name": "LayoutModel",
          "model_module_version": "1.2.0",
          "state": {
            "_view_name": "LayoutView",
            "grid_template_rows": null,
            "right": null,
            "justify_content": null,
            "_view_module": "@jupyter-widgets/base",
            "overflow": null,
            "_model_module_version": "1.2.0",
            "_view_count": null,
            "flex_flow": null,
            "width": null,
            "min_width": null,
            "border": null,
            "align_items": null,
            "bottom": null,
            "_model_module": "@jupyter-widgets/base",
            "top": null,
            "grid_column": null,
            "overflow_y": null,
            "overflow_x": null,
            "grid_auto_flow": null,
            "grid_area": null,
            "grid_template_columns": null,
            "flex": null,
            "_model_name": "LayoutModel",
            "justify_items": null,
            "grid_row": null,
            "max_height": null,
            "align_content": null,
            "visibility": null,
            "align_self": null,
            "height": null,
            "min_height": null,
            "padding": null,
            "grid_auto_rows": null,
            "grid_gap": null,
            "max_width": null,
            "order": null,
            "_view_module_version": "1.2.0",
            "grid_template_areas": null,
            "object_position": null,
            "object_fit": null,
            "grid_auto_columns": null,
            "margin": null,
            "display": null,
            "left": null
          }
        },
        "abad63d875724ff6a16efa3e2773cda7": {
          "model_module": "@jupyter-widgets/controls",
          "model_name": "ProgressStyleModel",
          "model_module_version": "1.5.0",
          "state": {
            "_view_name": "StyleView",
            "_model_name": "ProgressStyleModel",
            "description_width": "",
            "_view_module": "@jupyter-widgets/base",
            "_model_module_version": "1.5.0",
            "_view_count": null,
            "_view_module_version": "1.2.0",
            "bar_color": null,
            "_model_module": "@jupyter-widgets/controls"
          }
        },
        "c3e65cd5364643068222566c27ea3d55": {
          "model_module": "@jupyter-widgets/base",
          "model_name": "LayoutModel",
          "model_module_version": "1.2.0",
          "state": {
            "_view_name": "LayoutView",
            "grid_template_rows": null,
            "right": null,
            "justify_content": null,
            "_view_module": "@jupyter-widgets/base",
            "overflow": null,
            "_model_module_version": "1.2.0",
            "_view_count": null,
            "flex_flow": null,
            "width": "20px",
            "min_width": null,
            "border": null,
            "align_items": null,
            "bottom": null,
            "_model_module": "@jupyter-widgets/base",
            "top": null,
            "grid_column": null,
            "overflow_y": null,
            "overflow_x": null,
            "grid_auto_flow": null,
            "grid_area": null,
            "grid_template_columns": null,
            "flex": null,
            "_model_name": "LayoutModel",
            "justify_items": null,
            "grid_row": null,
            "max_height": null,
            "align_content": null,
            "visibility": null,
            "align_self": null,
            "height": null,
            "min_height": null,
            "padding": null,
            "grid_auto_rows": null,
            "grid_gap": null,
            "max_width": null,
            "order": null,
            "_view_module_version": "1.2.0",
            "grid_template_areas": null,
            "object_position": null,
            "object_fit": null,
            "grid_auto_columns": null,
            "margin": null,
            "display": null,
            "left": null
          }
        },
        "dc80a82a88f44460b92f63276cf10340": {
          "model_module": "@jupyter-widgets/controls",
          "model_name": "DescriptionStyleModel",
          "model_module_version": "1.5.0",
          "state": {
            "_view_name": "StyleView",
            "_model_name": "DescriptionStyleModel",
            "description_width": "",
            "_view_module": "@jupyter-widgets/base",
            "_model_module_version": "1.5.0",
            "_view_count": null,
            "_view_module_version": "1.2.0",
            "_model_module": "@jupyter-widgets/controls"
          }
        },
        "45e39b81a25e4de692d07b102f8571ac": {
          "model_module": "@jupyter-widgets/base",
          "model_name": "LayoutModel",
          "model_module_version": "1.2.0",
          "state": {
            "_view_name": "LayoutView",
            "grid_template_rows": null,
            "right": null,
            "justify_content": null,
            "_view_module": "@jupyter-widgets/base",
            "overflow": null,
            "_model_module_version": "1.2.0",
            "_view_count": null,
            "flex_flow": null,
            "width": null,
            "min_width": null,
            "border": null,
            "align_items": null,
            "bottom": null,
            "_model_module": "@jupyter-widgets/base",
            "top": null,
            "grid_column": null,
            "overflow_y": null,
            "overflow_x": null,
            "grid_auto_flow": null,
            "grid_area": null,
            "grid_template_columns": null,
            "flex": null,
            "_model_name": "LayoutModel",
            "justify_items": null,
            "grid_row": null,
            "max_height": null,
            "align_content": null,
            "visibility": null,
            "align_self": null,
            "height": null,
            "min_height": null,
            "padding": null,
            "grid_auto_rows": null,
            "grid_gap": null,
            "max_width": null,
            "order": null,
            "_view_module_version": "1.2.0",
            "grid_template_areas": null,
            "object_position": null,
            "object_fit": null,
            "grid_auto_columns": null,
            "margin": null,
            "display": null,
            "left": null
          }
        },
        "0f2ad784803242c2bfa35e9e04a58bed": {
          "model_module": "@jupyter-widgets/controls",
          "model_name": "HBoxModel",
          "model_module_version": "1.5.0",
          "state": {
            "_view_name": "HBoxView",
            "_dom_classes": [],
            "_model_name": "HBoxModel",
            "_view_module": "@jupyter-widgets/controls",
            "_model_module_version": "1.5.0",
            "_view_count": null,
            "_view_module_version": "1.5.0",
            "box_style": "",
            "layout": "IPY_MODEL_7173feac640c4b189ffd38c974688098",
            "_model_module": "@jupyter-widgets/controls",
            "children": [
              "IPY_MODEL_2a650494f8e74751b75e9d4e20ca8cbe",
              "IPY_MODEL_8ba806ffccf1428b82671476dc49baed",
              "IPY_MODEL_8e0b68cbc6a44a3e89df05c5db69800c"
            ]
          }
        },
        "7173feac640c4b189ffd38c974688098": {
          "model_module": "@jupyter-widgets/base",
          "model_name": "LayoutModel",
          "model_module_version": "1.2.0",
          "state": {
            "_view_name": "LayoutView",
            "grid_template_rows": null,
            "right": null,
            "justify_content": null,
            "_view_module": "@jupyter-widgets/base",
            "overflow": null,
            "_model_module_version": "1.2.0",
            "_view_count": null,
            "flex_flow": null,
            "width": null,
            "min_width": null,
            "border": null,
            "align_items": null,
            "bottom": null,
            "_model_module": "@jupyter-widgets/base",
            "top": null,
            "grid_column": null,
            "overflow_y": null,
            "overflow_x": null,
            "grid_auto_flow": null,
            "grid_area": null,
            "grid_template_columns": null,
            "flex": null,
            "_model_name": "LayoutModel",
            "justify_items": null,
            "grid_row": null,
            "max_height": null,
            "align_content": null,
            "visibility": null,
            "align_self": null,
            "height": null,
            "min_height": null,
            "padding": null,
            "grid_auto_rows": null,
            "grid_gap": null,
            "max_width": null,
            "order": null,
            "_view_module_version": "1.2.0",
            "grid_template_areas": null,
            "object_position": null,
            "object_fit": null,
            "grid_auto_columns": null,
            "margin": null,
            "display": null,
            "left": null
          }
        },
        "2a650494f8e74751b75e9d4e20ca8cbe": {
          "model_module": "@jupyter-widgets/controls",
          "model_name": "HTMLModel",
          "model_module_version": "1.5.0",
          "state": {
            "_view_name": "HTMLView",
            "style": "IPY_MODEL_55e8928030f3420187d683bb9d6f2664",
            "_dom_classes": [],
            "description": "",
            "_model_name": "HTMLModel",
            "placeholder": "​",
            "_view_module": "@jupyter-widgets/controls",
            "_model_module_version": "1.5.0",
            "value": "Dl Size...: 100%",
            "_view_count": null,
            "_view_module_version": "1.5.0",
            "description_tooltip": null,
            "_model_module": "@jupyter-widgets/controls",
            "layout": "IPY_MODEL_cfa329deaab44ac58d6b2cf7e4dde47f"
          }
        },
        "8ba806ffccf1428b82671476dc49baed": {
          "model_module": "@jupyter-widgets/controls",
          "model_name": "FloatProgressModel",
          "model_module_version": "1.5.0",
          "state": {
            "_view_name": "ProgressView",
            "style": "IPY_MODEL_13e3bb12d9db4633bbd186ea40dd30c9",
            "_dom_classes": [],
            "description": "",
            "_model_name": "FloatProgressModel",
            "bar_style": "success",
            "max": 1,
            "_view_module": "@jupyter-widgets/controls",
            "_model_module_version": "1.5.0",
            "value": 1,
            "_view_count": null,
            "_view_module_version": "1.5.0",
            "orientation": "horizontal",
            "min": 0,
            "description_tooltip": null,
            "_model_module": "@jupyter-widgets/controls",
            "layout": "IPY_MODEL_5e07873186d04912bfd9e531c80c8b63"
          }
        },
        "8e0b68cbc6a44a3e89df05c5db69800c": {
          "model_module": "@jupyter-widgets/controls",
          "model_name": "HTMLModel",
          "model_module_version": "1.5.0",
          "state": {
            "_view_name": "HTMLView",
            "style": "IPY_MODEL_0988c59ab3ef4a799548b42b11ae5ab6",
            "_dom_classes": [],
            "description": "",
            "_model_name": "HTMLModel",
            "placeholder": "​",
            "_view_module": "@jupyter-widgets/controls",
            "_model_module_version": "1.5.0",
            "value": " 786/786 [00:29&lt;00:00, 45.13 MiB/s]",
            "_view_count": null,
            "_view_module_version": "1.5.0",
            "description_tooltip": null,
            "_model_module": "@jupyter-widgets/controls",
            "layout": "IPY_MODEL_066196b6395f4d94b04b43b70a362478"
          }
        },
        "55e8928030f3420187d683bb9d6f2664": {
          "model_module": "@jupyter-widgets/controls",
          "model_name": "DescriptionStyleModel",
          "model_module_version": "1.5.0",
          "state": {
            "_view_name": "StyleView",
            "_model_name": "DescriptionStyleModel",
            "description_width": "",
            "_view_module": "@jupyter-widgets/base",
            "_model_module_version": "1.5.0",
            "_view_count": null,
            "_view_module_version": "1.2.0",
            "_model_module": "@jupyter-widgets/controls"
          }
        },
        "cfa329deaab44ac58d6b2cf7e4dde47f": {
          "model_module": "@jupyter-widgets/base",
          "model_name": "LayoutModel",
          "model_module_version": "1.2.0",
          "state": {
            "_view_name": "LayoutView",
            "grid_template_rows": null,
            "right": null,
            "justify_content": null,
            "_view_module": "@jupyter-widgets/base",
            "overflow": null,
            "_model_module_version": "1.2.0",
            "_view_count": null,
            "flex_flow": null,
            "width": null,
            "min_width": null,
            "border": null,
            "align_items": null,
            "bottom": null,
            "_model_module": "@jupyter-widgets/base",
            "top": null,
            "grid_column": null,
            "overflow_y": null,
            "overflow_x": null,
            "grid_auto_flow": null,
            "grid_area": null,
            "grid_template_columns": null,
            "flex": null,
            "_model_name": "LayoutModel",
            "justify_items": null,
            "grid_row": null,
            "max_height": null,
            "align_content": null,
            "visibility": null,
            "align_self": null,
            "height": null,
            "min_height": null,
            "padding": null,
            "grid_auto_rows": null,
            "grid_gap": null,
            "max_width": null,
            "order": null,
            "_view_module_version": "1.2.0",
            "grid_template_areas": null,
            "object_position": null,
            "object_fit": null,
            "grid_auto_columns": null,
            "margin": null,
            "display": null,
            "left": null
          }
        },
        "13e3bb12d9db4633bbd186ea40dd30c9": {
          "model_module": "@jupyter-widgets/controls",
          "model_name": "ProgressStyleModel",
          "model_module_version": "1.5.0",
          "state": {
            "_view_name": "StyleView",
            "_model_name": "ProgressStyleModel",
            "description_width": "",
            "_view_module": "@jupyter-widgets/base",
            "_model_module_version": "1.5.0",
            "_view_count": null,
            "_view_module_version": "1.2.0",
            "bar_color": null,
            "_model_module": "@jupyter-widgets/controls"
          }
        },
        "5e07873186d04912bfd9e531c80c8b63": {
          "model_module": "@jupyter-widgets/base",
          "model_name": "LayoutModel",
          "model_module_version": "1.2.0",
          "state": {
            "_view_name": "LayoutView",
            "grid_template_rows": null,
            "right": null,
            "justify_content": null,
            "_view_module": "@jupyter-widgets/base",
            "overflow": null,
            "_model_module_version": "1.2.0",
            "_view_count": null,
            "flex_flow": null,
            "width": "20px",
            "min_width": null,
            "border": null,
            "align_items": null,
            "bottom": null,
            "_model_module": "@jupyter-widgets/base",
            "top": null,
            "grid_column": null,
            "overflow_y": null,
            "overflow_x": null,
            "grid_auto_flow": null,
            "grid_area": null,
            "grid_template_columns": null,
            "flex": null,
            "_model_name": "LayoutModel",
            "justify_items": null,
            "grid_row": null,
            "max_height": null,
            "align_content": null,
            "visibility": null,
            "align_self": null,
            "height": null,
            "min_height": null,
            "padding": null,
            "grid_auto_rows": null,
            "grid_gap": null,
            "max_width": null,
            "order": null,
            "_view_module_version": "1.2.0",
            "grid_template_areas": null,
            "object_position": null,
            "object_fit": null,
            "grid_auto_columns": null,
            "margin": null,
            "display": null,
            "left": null
          }
        },
        "0988c59ab3ef4a799548b42b11ae5ab6": {
          "model_module": "@jupyter-widgets/controls",
          "model_name": "DescriptionStyleModel",
          "model_module_version": "1.5.0",
          "state": {
            "_view_name": "StyleView",
            "_model_name": "DescriptionStyleModel",
            "description_width": "",
            "_view_module": "@jupyter-widgets/base",
            "_model_module_version": "1.5.0",
            "_view_count": null,
            "_view_module_version": "1.2.0",
            "_model_module": "@jupyter-widgets/controls"
          }
        },
        "066196b6395f4d94b04b43b70a362478": {
          "model_module": "@jupyter-widgets/base",
          "model_name": "LayoutModel",
          "model_module_version": "1.2.0",
          "state": {
            "_view_name": "LayoutView",
            "grid_template_rows": null,
            "right": null,
            "justify_content": null,
            "_view_module": "@jupyter-widgets/base",
            "overflow": null,
            "_model_module_version": "1.2.0",
            "_view_count": null,
            "flex_flow": null,
            "width": null,
            "min_width": null,
            "border": null,
            "align_items": null,
            "bottom": null,
            "_model_module": "@jupyter-widgets/base",
            "top": null,
            "grid_column": null,
            "overflow_y": null,
            "overflow_x": null,
            "grid_auto_flow": null,
            "grid_area": null,
            "grid_template_columns": null,
            "flex": null,
            "_model_name": "LayoutModel",
            "justify_items": null,
            "grid_row": null,
            "max_height": null,
            "align_content": null,
            "visibility": null,
            "align_self": null,
            "height": null,
            "min_height": null,
            "padding": null,
            "grid_auto_rows": null,
            "grid_gap": null,
            "max_width": null,
            "order": null,
            "_view_module_version": "1.2.0",
            "grid_template_areas": null,
            "object_position": null,
            "object_fit": null,
            "grid_auto_columns": null,
            "margin": null,
            "display": null,
            "left": null
          }
        },
        "73fc886bd36c4c088f56559d91155737": {
          "model_module": "@jupyter-widgets/controls",
          "model_name": "HBoxModel",
          "model_module_version": "1.5.0",
          "state": {
            "_view_name": "HBoxView",
            "_dom_classes": [],
            "_model_name": "HBoxModel",
            "_view_module": "@jupyter-widgets/controls",
            "_model_module_version": "1.5.0",
            "_view_count": null,
            "_view_module_version": "1.5.0",
            "box_style": "",
            "layout": "IPY_MODEL_11837acd3276435a91775c1944819a90",
            "_model_module": "@jupyter-widgets/controls",
            "children": [
              "IPY_MODEL_98e8bfc61717491386315c902a30b3f0",
              "IPY_MODEL_a803220a77574c54807300f30eafb9cd",
              "IPY_MODEL_4e011cbf734f41e7bd3dc5aa3590caa0"
            ]
          }
        },
        "11837acd3276435a91775c1944819a90": {
          "model_module": "@jupyter-widgets/base",
          "model_name": "LayoutModel",
          "model_module_version": "1.2.0",
          "state": {
            "_view_name": "LayoutView",
            "grid_template_rows": null,
            "right": null,
            "justify_content": null,
            "_view_module": "@jupyter-widgets/base",
            "overflow": null,
            "_model_module_version": "1.2.0",
            "_view_count": null,
            "flex_flow": null,
            "width": null,
            "min_width": null,
            "border": null,
            "align_items": null,
            "bottom": null,
            "_model_module": "@jupyter-widgets/base",
            "top": null,
            "grid_column": null,
            "overflow_y": null,
            "overflow_x": null,
            "grid_auto_flow": null,
            "grid_area": null,
            "grid_template_columns": null,
            "flex": null,
            "_model_name": "LayoutModel",
            "justify_items": null,
            "grid_row": null,
            "max_height": null,
            "align_content": null,
            "visibility": null,
            "align_self": null,
            "height": null,
            "min_height": null,
            "padding": null,
            "grid_auto_rows": null,
            "grid_gap": null,
            "max_width": null,
            "order": null,
            "_view_module_version": "1.2.0",
            "grid_template_areas": null,
            "object_position": null,
            "object_fit": null,
            "grid_auto_columns": null,
            "margin": null,
            "display": null,
            "left": null
          }
        },
        "98e8bfc61717491386315c902a30b3f0": {
          "model_module": "@jupyter-widgets/controls",
          "model_name": "HTMLModel",
          "model_module_version": "1.5.0",
          "state": {
            "_view_name": "HTMLView",
            "style": "IPY_MODEL_82dbf1b782ea43119730b30ea3412397",
            "_dom_classes": [],
            "description": "",
            "_model_name": "HTMLModel",
            "placeholder": "​",
            "_view_module": "@jupyter-widgets/controls",
            "_model_module_version": "1.5.0",
            "value": "",
            "_view_count": null,
            "_view_module_version": "1.5.0",
            "description_tooltip": null,
            "_model_module": "@jupyter-widgets/controls",
            "layout": "IPY_MODEL_2bb2cf5e6c914ee5a26d80f658940907"
          }
        },
        "a803220a77574c54807300f30eafb9cd": {
          "model_module": "@jupyter-widgets/controls",
          "model_name": "FloatProgressModel",
          "model_module_version": "1.5.0",
          "state": {
            "_view_name": "ProgressView",
            "style": "IPY_MODEL_c442323f7a804b8fb2b73ac30af4920b",
            "_dom_classes": [],
            "description": "",
            "_model_name": "FloatProgressModel",
            "bar_style": "info",
            "max": 1,
            "_view_module": "@jupyter-widgets/controls",
            "_model_module_version": "1.5.0",
            "value": 1,
            "_view_count": null,
            "_view_module_version": "1.5.0",
            "orientation": "horizontal",
            "min": 0,
            "description_tooltip": null,
            "_model_module": "@jupyter-widgets/controls",
            "layout": "IPY_MODEL_bea33931ad7d4aa582f0f21edd1749ed"
          }
        },
        "4e011cbf734f41e7bd3dc5aa3590caa0": {
          "model_module": "@jupyter-widgets/controls",
          "model_name": "HTMLModel",
          "model_module_version": "1.5.0",
          "state": {
            "_view_name": "HTMLView",
            "style": "IPY_MODEL_167a4cf4674f41df9356e3a36d30b586",
            "_dom_classes": [],
            "description": "",
            "_model_name": "HTMLModel",
            "placeholder": "​",
            "_view_module": "@jupyter-widgets/controls",
            "_model_module_version": "1.5.0",
            "value": " 23146/0 [00:16&lt;00:00, 1438.62 examples/s]",
            "_view_count": null,
            "_view_module_version": "1.5.0",
            "description_tooltip": null,
            "_model_module": "@jupyter-widgets/controls",
            "layout": "IPY_MODEL_d930b2aab20548b7a28a805720958209"
          }
        },
        "82dbf1b782ea43119730b30ea3412397": {
          "model_module": "@jupyter-widgets/controls",
          "model_name": "DescriptionStyleModel",
          "model_module_version": "1.5.0",
          "state": {
            "_view_name": "StyleView",
            "_model_name": "DescriptionStyleModel",
            "description_width": "",
            "_view_module": "@jupyter-widgets/base",
            "_model_module_version": "1.5.0",
            "_view_count": null,
            "_view_module_version": "1.2.0",
            "_model_module": "@jupyter-widgets/controls"
          }
        },
        "2bb2cf5e6c914ee5a26d80f658940907": {
          "model_module": "@jupyter-widgets/base",
          "model_name": "LayoutModel",
          "model_module_version": "1.2.0",
          "state": {
            "_view_name": "LayoutView",
            "grid_template_rows": null,
            "right": null,
            "justify_content": null,
            "_view_module": "@jupyter-widgets/base",
            "overflow": null,
            "_model_module_version": "1.2.0",
            "_view_count": null,
            "flex_flow": null,
            "width": null,
            "min_width": null,
            "border": null,
            "align_items": null,
            "bottom": null,
            "_model_module": "@jupyter-widgets/base",
            "top": null,
            "grid_column": null,
            "overflow_y": null,
            "overflow_x": null,
            "grid_auto_flow": null,
            "grid_area": null,
            "grid_template_columns": null,
            "flex": null,
            "_model_name": "LayoutModel",
            "justify_items": null,
            "grid_row": null,
            "max_height": null,
            "align_content": null,
            "visibility": null,
            "align_self": null,
            "height": null,
            "min_height": null,
            "padding": null,
            "grid_auto_rows": null,
            "grid_gap": null,
            "max_width": null,
            "order": null,
            "_view_module_version": "1.2.0",
            "grid_template_areas": null,
            "object_position": null,
            "object_fit": null,
            "grid_auto_columns": null,
            "margin": null,
            "display": null,
            "left": null
          }
        },
        "c442323f7a804b8fb2b73ac30af4920b": {
          "model_module": "@jupyter-widgets/controls",
          "model_name": "ProgressStyleModel",
          "model_module_version": "1.5.0",
          "state": {
            "_view_name": "StyleView",
            "_model_name": "ProgressStyleModel",
            "description_width": "",
            "_view_module": "@jupyter-widgets/base",
            "_model_module_version": "1.5.0",
            "_view_count": null,
            "_view_module_version": "1.2.0",
            "bar_color": null,
            "_model_module": "@jupyter-widgets/controls"
          }
        },
        "bea33931ad7d4aa582f0f21edd1749ed": {
          "model_module": "@jupyter-widgets/base",
          "model_name": "LayoutModel",
          "model_module_version": "1.2.0",
          "state": {
            "_view_name": "LayoutView",
            "grid_template_rows": null,
            "right": null,
            "justify_content": null,
            "_view_module": "@jupyter-widgets/base",
            "overflow": null,
            "_model_module_version": "1.2.0",
            "_view_count": null,
            "flex_flow": null,
            "width": "20px",
            "min_width": null,
            "border": null,
            "align_items": null,
            "bottom": null,
            "_model_module": "@jupyter-widgets/base",
            "top": null,
            "grid_column": null,
            "overflow_y": null,
            "overflow_x": null,
            "grid_auto_flow": null,
            "grid_area": null,
            "grid_template_columns": null,
            "flex": null,
            "_model_name": "LayoutModel",
            "justify_items": null,
            "grid_row": null,
            "max_height": null,
            "align_content": null,
            "visibility": null,
            "align_self": null,
            "height": null,
            "min_height": null,
            "padding": null,
            "grid_auto_rows": null,
            "grid_gap": null,
            "max_width": null,
            "order": null,
            "_view_module_version": "1.2.0",
            "grid_template_areas": null,
            "object_position": null,
            "object_fit": null,
            "grid_auto_columns": null,
            "margin": null,
            "display": null,
            "left": null
          }
        },
        "167a4cf4674f41df9356e3a36d30b586": {
          "model_module": "@jupyter-widgets/controls",
          "model_name": "DescriptionStyleModel",
          "model_module_version": "1.5.0",
          "state": {
            "_view_name": "StyleView",
            "_model_name": "DescriptionStyleModel",
            "description_width": "",
            "_view_module": "@jupyter-widgets/base",
            "_model_module_version": "1.5.0",
            "_view_count": null,
            "_view_module_version": "1.2.0",
            "_model_module": "@jupyter-widgets/controls"
          }
        },
        "d930b2aab20548b7a28a805720958209": {
          "model_module": "@jupyter-widgets/base",
          "model_name": "LayoutModel",
          "model_module_version": "1.2.0",
          "state": {
            "_view_name": "LayoutView",
            "grid_template_rows": null,
            "right": null,
            "justify_content": null,
            "_view_module": "@jupyter-widgets/base",
            "overflow": null,
            "_model_module_version": "1.2.0",
            "_view_count": null,
            "flex_flow": null,
            "width": null,
            "min_width": null,
            "border": null,
            "align_items": null,
            "bottom": null,
            "_model_module": "@jupyter-widgets/base",
            "top": null,
            "grid_column": null,
            "overflow_y": null,
            "overflow_x": null,
            "grid_auto_flow": null,
            "grid_area": null,
            "grid_template_columns": null,
            "flex": null,
            "_model_name": "LayoutModel",
            "justify_items": null,
            "grid_row": null,
            "max_height": null,
            "align_content": null,
            "visibility": null,
            "align_self": null,
            "height": null,
            "min_height": null,
            "padding": null,
            "grid_auto_rows": null,
            "grid_gap": null,
            "max_width": null,
            "order": null,
            "_view_module_version": "1.2.0",
            "grid_template_areas": null,
            "object_position": null,
            "object_fit": null,
            "grid_auto_columns": null,
            "margin": null,
            "display": null,
            "left": null
          }
        },
        "b25feab6f80a440586782542b9565d3f": {
          "model_module": "@jupyter-widgets/controls",
          "model_name": "HBoxModel",
          "model_module_version": "1.5.0",
          "state": {
            "_view_name": "HBoxView",
            "_dom_classes": [],
            "_model_name": "HBoxModel",
            "_view_module": "@jupyter-widgets/controls",
            "_model_module_version": "1.5.0",
            "_view_count": null,
            "_view_module_version": "1.5.0",
            "box_style": "",
            "layout": "IPY_MODEL_3396c4d703c34da19b7f0a5e0a7c8484",
            "_model_module": "@jupyter-widgets/controls",
            "children": [
              "IPY_MODEL_59c61a75faa24c13bb7c4e9946223da1",
              "IPY_MODEL_b1ca92d29c324ae39eb627b3917787d5",
              "IPY_MODEL_e1c3526edc7448aaab344df5c419bad8"
            ]
          }
        },
        "3396c4d703c34da19b7f0a5e0a7c8484": {
          "model_module": "@jupyter-widgets/base",
          "model_name": "LayoutModel",
          "model_module_version": "1.2.0",
          "state": {
            "_view_name": "LayoutView",
            "grid_template_rows": null,
            "right": null,
            "justify_content": null,
            "_view_module": "@jupyter-widgets/base",
            "overflow": null,
            "_model_module_version": "1.2.0",
            "_view_count": null,
            "flex_flow": null,
            "width": null,
            "min_width": null,
            "border": null,
            "align_items": null,
            "bottom": null,
            "_model_module": "@jupyter-widgets/base",
            "top": null,
            "grid_column": null,
            "overflow_y": null,
            "overflow_x": null,
            "grid_auto_flow": null,
            "grid_area": null,
            "grid_template_columns": null,
            "flex": null,
            "_model_name": "LayoutModel",
            "justify_items": null,
            "grid_row": null,
            "max_height": null,
            "align_content": null,
            "visibility": null,
            "align_self": null,
            "height": null,
            "min_height": null,
            "padding": null,
            "grid_auto_rows": null,
            "grid_gap": null,
            "max_width": null,
            "order": null,
            "_view_module_version": "1.2.0",
            "grid_template_areas": null,
            "object_position": null,
            "object_fit": null,
            "grid_auto_columns": null,
            "margin": null,
            "display": null,
            "left": null
          }
        },
        "59c61a75faa24c13bb7c4e9946223da1": {
          "model_module": "@jupyter-widgets/controls",
          "model_name": "HTMLModel",
          "model_module_version": "1.5.0",
          "state": {
            "_view_name": "HTMLView",
            "style": "IPY_MODEL_620fd0a35b044a208d86ddc52da408fc",
            "_dom_classes": [],
            "description": "",
            "_model_name": "HTMLModel",
            "placeholder": "​",
            "_view_module": "@jupyter-widgets/controls",
            "_model_module_version": "1.5.0",
            "value": "100%",
            "_view_count": null,
            "_view_module_version": "1.5.0",
            "description_tooltip": null,
            "_model_module": "@jupyter-widgets/controls",
            "layout": "IPY_MODEL_e1de6654da1a47729d33a7379117f7d8"
          }
        },
        "b1ca92d29c324ae39eb627b3917787d5": {
          "model_module": "@jupyter-widgets/controls",
          "model_name": "FloatProgressModel",
          "model_module_version": "1.5.0",
          "state": {
            "_view_name": "ProgressView",
            "style": "IPY_MODEL_eab65f956a74495ba97615d8fd6c2277",
            "_dom_classes": [],
            "description": "",
            "_model_name": "FloatProgressModel",
            "bar_style": "danger",
            "max": 23262,
            "_view_module": "@jupyter-widgets/controls",
            "_model_module_version": "1.5.0",
            "value": 23261,
            "_view_count": null,
            "_view_module_version": "1.5.0",
            "orientation": "horizontal",
            "min": 0,
            "description_tooltip": null,
            "_model_module": "@jupyter-widgets/controls",
            "layout": "IPY_MODEL_a3cee2f6320e48a49aac46a5a9952346"
          }
        },
        "e1c3526edc7448aaab344df5c419bad8": {
          "model_module": "@jupyter-widgets/controls",
          "model_name": "HTMLModel",
          "model_module_version": "1.5.0",
          "state": {
            "_view_name": "HTMLView",
            "style": "IPY_MODEL_59e3a1353c104d72a84f898899861e6a",
            "_dom_classes": [],
            "description": "",
            "_model_name": "HTMLModel",
            "placeholder": "​",
            "_view_module": "@jupyter-widgets/controls",
            "_model_module_version": "1.5.0",
            "value": " 23261/23262 [00:02&lt;00:00, 8106.51 examples/s]",
            "_view_count": null,
            "_view_module_version": "1.5.0",
            "description_tooltip": null,
            "_model_module": "@jupyter-widgets/controls",
            "layout": "IPY_MODEL_51ded203bc464f8db63cfe8331f2dfe1"
          }
        },
        "620fd0a35b044a208d86ddc52da408fc": {
          "model_module": "@jupyter-widgets/controls",
          "model_name": "DescriptionStyleModel",
          "model_module_version": "1.5.0",
          "state": {
            "_view_name": "StyleView",
            "_model_name": "DescriptionStyleModel",
            "description_width": "",
            "_view_module": "@jupyter-widgets/base",
            "_model_module_version": "1.5.0",
            "_view_count": null,
            "_view_module_version": "1.2.0",
            "_model_module": "@jupyter-widgets/controls"
          }
        },
        "e1de6654da1a47729d33a7379117f7d8": {
          "model_module": "@jupyter-widgets/base",
          "model_name": "LayoutModel",
          "model_module_version": "1.2.0",
          "state": {
            "_view_name": "LayoutView",
            "grid_template_rows": null,
            "right": null,
            "justify_content": null,
            "_view_module": "@jupyter-widgets/base",
            "overflow": null,
            "_model_module_version": "1.2.0",
            "_view_count": null,
            "flex_flow": null,
            "width": null,
            "min_width": null,
            "border": null,
            "align_items": null,
            "bottom": null,
            "_model_module": "@jupyter-widgets/base",
            "top": null,
            "grid_column": null,
            "overflow_y": null,
            "overflow_x": null,
            "grid_auto_flow": null,
            "grid_area": null,
            "grid_template_columns": null,
            "flex": null,
            "_model_name": "LayoutModel",
            "justify_items": null,
            "grid_row": null,
            "max_height": null,
            "align_content": null,
            "visibility": null,
            "align_self": null,
            "height": null,
            "min_height": null,
            "padding": null,
            "grid_auto_rows": null,
            "grid_gap": null,
            "max_width": null,
            "order": null,
            "_view_module_version": "1.2.0",
            "grid_template_areas": null,
            "object_position": null,
            "object_fit": null,
            "grid_auto_columns": null,
            "margin": null,
            "display": null,
            "left": null
          }
        },
        "eab65f956a74495ba97615d8fd6c2277": {
          "model_module": "@jupyter-widgets/controls",
          "model_name": "ProgressStyleModel",
          "model_module_version": "1.5.0",
          "state": {
            "_view_name": "StyleView",
            "_model_name": "ProgressStyleModel",
            "description_width": "",
            "_view_module": "@jupyter-widgets/base",
            "_model_module_version": "1.5.0",
            "_view_count": null,
            "_view_module_version": "1.2.0",
            "bar_color": null,
            "_model_module": "@jupyter-widgets/controls"
          }
        },
        "a3cee2f6320e48a49aac46a5a9952346": {
          "model_module": "@jupyter-widgets/base",
          "model_name": "LayoutModel",
          "model_module_version": "1.2.0",
          "state": {
            "_view_name": "LayoutView",
            "grid_template_rows": null,
            "right": null,
            "justify_content": null,
            "_view_module": "@jupyter-widgets/base",
            "overflow": null,
            "_model_module_version": "1.2.0",
            "_view_count": null,
            "flex_flow": null,
            "width": null,
            "min_width": null,
            "border": null,
            "align_items": null,
            "bottom": null,
            "_model_module": "@jupyter-widgets/base",
            "top": null,
            "grid_column": null,
            "overflow_y": null,
            "overflow_x": null,
            "grid_auto_flow": null,
            "grid_area": null,
            "grid_template_columns": null,
            "flex": null,
            "_model_name": "LayoutModel",
            "justify_items": null,
            "grid_row": null,
            "max_height": null,
            "align_content": null,
            "visibility": null,
            "align_self": null,
            "height": null,
            "min_height": null,
            "padding": null,
            "grid_auto_rows": null,
            "grid_gap": null,
            "max_width": null,
            "order": null,
            "_view_module_version": "1.2.0",
            "grid_template_areas": null,
            "object_position": null,
            "object_fit": null,
            "grid_auto_columns": null,
            "margin": null,
            "display": null,
            "left": null
          }
        },
        "59e3a1353c104d72a84f898899861e6a": {
          "model_module": "@jupyter-widgets/controls",
          "model_name": "DescriptionStyleModel",
          "model_module_version": "1.5.0",
          "state": {
            "_view_name": "StyleView",
            "_model_name": "DescriptionStyleModel",
            "description_width": "",
            "_view_module": "@jupyter-widgets/base",
            "_model_module_version": "1.5.0",
            "_view_count": null,
            "_view_module_version": "1.2.0",
            "_model_module": "@jupyter-widgets/controls"
          }
        },
        "51ded203bc464f8db63cfe8331f2dfe1": {
          "model_module": "@jupyter-widgets/base",
          "model_name": "LayoutModel",
          "model_module_version": "1.2.0",
          "state": {
            "_view_name": "LayoutView",
            "grid_template_rows": null,
            "right": null,
            "justify_content": null,
            "_view_module": "@jupyter-widgets/base",
            "overflow": null,
            "_model_module_version": "1.2.0",
            "_view_count": null,
            "flex_flow": null,
            "width": null,
            "min_width": null,
            "border": null,
            "align_items": null,
            "bottom": null,
            "_model_module": "@jupyter-widgets/base",
            "top": null,
            "grid_column": null,
            "overflow_y": null,
            "overflow_x": null,
            "grid_auto_flow": null,
            "grid_area": null,
            "grid_template_columns": null,
            "flex": null,
            "_model_name": "LayoutModel",
            "justify_items": null,
            "grid_row": null,
            "max_height": null,
            "align_content": null,
            "visibility": null,
            "align_self": null,
            "height": null,
            "min_height": null,
            "padding": null,
            "grid_auto_rows": null,
            "grid_gap": null,
            "max_width": null,
            "order": null,
            "_view_module_version": "1.2.0",
            "grid_template_areas": null,
            "object_position": null,
            "object_fit": null,
            "grid_auto_columns": null,
            "margin": null,
            "display": null,
            "left": null
          }
        }
      }
    }
  },
  "cells": [
    {
      "cell_type": "markdown",
      "source": [
        "# Tensorflow / Keras implementation of [MobileViT](https://arxiv.org/abs/2110.02178)"
      ],
      "metadata": {
        "id": "ZuaQw4YeooHi"
      }
    },
    {
      "cell_type": "markdown",
      "source": [
        "### Imports"
      ],
      "metadata": {
        "id": "PjqxM7RrKhEB"
      }
    },
    {
      "cell_type": "code",
      "source": [
        "!pip install tensorflow_addons"
      ],
      "metadata": {
        "colab": {
          "base_uri": "https://localhost:8080/"
        },
        "id": "D15cAbOVFCAz",
        "outputId": "2add4839-54ae-4fee-d4ab-4f1f55e4a68a"
      },
      "execution_count": 2,
      "outputs": [
        {
          "output_type": "stream",
          "name": "stdout",
          "text": [
            "Collecting tensorflow_addons\n",
            "  Downloading tensorflow_addons-0.15.0-cp37-cp37m-manylinux_2_12_x86_64.manylinux2010_x86_64.whl (1.1 MB)\n",
            "\u001b[?25l\r\u001b[K     |▎                               | 10 kB 6.2 MB/s eta 0:00:01\r\u001b[K     |▋                               | 20 kB 9.3 MB/s eta 0:00:01\r\u001b[K     |▉                               | 30 kB 11.8 MB/s eta 0:00:01\r\u001b[K     |█▏                              | 40 kB 13.5 MB/s eta 0:00:01\r\u001b[K     |█▌                              | 51 kB 15.1 MB/s eta 0:00:01\r\u001b[K     |█▊                              | 61 kB 14.8 MB/s eta 0:00:01\r\u001b[K     |██                              | 71 kB 11.6 MB/s eta 0:00:01\r\u001b[K     |██▍                             | 81 kB 12.6 MB/s eta 0:00:01\r\u001b[K     |██▋                             | 92 kB 11.5 MB/s eta 0:00:01\r\u001b[K     |███                             | 102 kB 12.3 MB/s eta 0:00:01\r\u001b[K     |███▎                            | 112 kB 12.3 MB/s eta 0:00:01\r\u001b[K     |███▌                            | 122 kB 12.3 MB/s eta 0:00:01\r\u001b[K     |███▉                            | 133 kB 12.3 MB/s eta 0:00:01\r\u001b[K     |████▏                           | 143 kB 12.3 MB/s eta 0:00:01\r\u001b[K     |████▍                           | 153 kB 12.3 MB/s eta 0:00:01\r\u001b[K     |████▊                           | 163 kB 12.3 MB/s eta 0:00:01\r\u001b[K     |█████                           | 174 kB 12.3 MB/s eta 0:00:01\r\u001b[K     |█████▎                          | 184 kB 12.3 MB/s eta 0:00:01\r\u001b[K     |█████▋                          | 194 kB 12.3 MB/s eta 0:00:01\r\u001b[K     |█████▉                          | 204 kB 12.3 MB/s eta 0:00:01\r\u001b[K     |██████▏                         | 215 kB 12.3 MB/s eta 0:00:01\r\u001b[K     |██████▌                         | 225 kB 12.3 MB/s eta 0:00:01\r\u001b[K     |██████▊                         | 235 kB 12.3 MB/s eta 0:00:01\r\u001b[K     |███████                         | 245 kB 12.3 MB/s eta 0:00:01\r\u001b[K     |███████▍                        | 256 kB 12.3 MB/s eta 0:00:01\r\u001b[K     |███████▋                        | 266 kB 12.3 MB/s eta 0:00:01\r\u001b[K     |████████                        | 276 kB 12.3 MB/s eta 0:00:01\r\u001b[K     |████████▎                       | 286 kB 12.3 MB/s eta 0:00:01\r\u001b[K     |████████▌                       | 296 kB 12.3 MB/s eta 0:00:01\r\u001b[K     |████████▉                       | 307 kB 12.3 MB/s eta 0:00:01\r\u001b[K     |█████████                       | 317 kB 12.3 MB/s eta 0:00:01\r\u001b[K     |█████████▍                      | 327 kB 12.3 MB/s eta 0:00:01\r\u001b[K     |█████████▊                      | 337 kB 12.3 MB/s eta 0:00:01\r\u001b[K     |██████████                      | 348 kB 12.3 MB/s eta 0:00:01\r\u001b[K     |██████████▎                     | 358 kB 12.3 MB/s eta 0:00:01\r\u001b[K     |██████████▋                     | 368 kB 12.3 MB/s eta 0:00:01\r\u001b[K     |██████████▉                     | 378 kB 12.3 MB/s eta 0:00:01\r\u001b[K     |███████████▏                    | 389 kB 12.3 MB/s eta 0:00:01\r\u001b[K     |███████████▌                    | 399 kB 12.3 MB/s eta 0:00:01\r\u001b[K     |███████████▊                    | 409 kB 12.3 MB/s eta 0:00:01\r\u001b[K     |████████████                    | 419 kB 12.3 MB/s eta 0:00:01\r\u001b[K     |████████████▍                   | 430 kB 12.3 MB/s eta 0:00:01\r\u001b[K     |████████████▋                   | 440 kB 12.3 MB/s eta 0:00:01\r\u001b[K     |█████████████                   | 450 kB 12.3 MB/s eta 0:00:01\r\u001b[K     |█████████████▎                  | 460 kB 12.3 MB/s eta 0:00:01\r\u001b[K     |█████████████▌                  | 471 kB 12.3 MB/s eta 0:00:01\r\u001b[K     |█████████████▉                  | 481 kB 12.3 MB/s eta 0:00:01\r\u001b[K     |██████████████                  | 491 kB 12.3 MB/s eta 0:00:01\r\u001b[K     |██████████████▍                 | 501 kB 12.3 MB/s eta 0:00:01\r\u001b[K     |██████████████▊                 | 512 kB 12.3 MB/s eta 0:00:01\r\u001b[K     |███████████████                 | 522 kB 12.3 MB/s eta 0:00:01\r\u001b[K     |███████████████▎                | 532 kB 12.3 MB/s eta 0:00:01\r\u001b[K     |███████████████▋                | 542 kB 12.3 MB/s eta 0:00:01\r\u001b[K     |███████████████▉                | 552 kB 12.3 MB/s eta 0:00:01\r\u001b[K     |████████████████▏               | 563 kB 12.3 MB/s eta 0:00:01\r\u001b[K     |████████████████▌               | 573 kB 12.3 MB/s eta 0:00:01\r\u001b[K     |████████████████▊               | 583 kB 12.3 MB/s eta 0:00:01\r\u001b[K     |█████████████████               | 593 kB 12.3 MB/s eta 0:00:01\r\u001b[K     |█████████████████▍              | 604 kB 12.3 MB/s eta 0:00:01\r\u001b[K     |█████████████████▋              | 614 kB 12.3 MB/s eta 0:00:01\r\u001b[K     |██████████████████              | 624 kB 12.3 MB/s eta 0:00:01\r\u001b[K     |██████████████████▏             | 634 kB 12.3 MB/s eta 0:00:01\r\u001b[K     |██████████████████▌             | 645 kB 12.3 MB/s eta 0:00:01\r\u001b[K     |██████████████████▉             | 655 kB 12.3 MB/s eta 0:00:01\r\u001b[K     |███████████████████             | 665 kB 12.3 MB/s eta 0:00:01\r\u001b[K     |███████████████████▍            | 675 kB 12.3 MB/s eta 0:00:01\r\u001b[K     |███████████████████▊            | 686 kB 12.3 MB/s eta 0:00:01\r\u001b[K     |████████████████████            | 696 kB 12.3 MB/s eta 0:00:01\r\u001b[K     |████████████████████▎           | 706 kB 12.3 MB/s eta 0:00:01\r\u001b[K     |████████████████████▋           | 716 kB 12.3 MB/s eta 0:00:01\r\u001b[K     |████████████████████▉           | 727 kB 12.3 MB/s eta 0:00:01\r\u001b[K     |█████████████████████▏          | 737 kB 12.3 MB/s eta 0:00:01\r\u001b[K     |█████████████████████▌          | 747 kB 12.3 MB/s eta 0:00:01\r\u001b[K     |█████████████████████▊          | 757 kB 12.3 MB/s eta 0:00:01\r\u001b[K     |██████████████████████          | 768 kB 12.3 MB/s eta 0:00:01\r\u001b[K     |██████████████████████▎         | 778 kB 12.3 MB/s eta 0:00:01\r\u001b[K     |██████████████████████▋         | 788 kB 12.3 MB/s eta 0:00:01\r\u001b[K     |███████████████████████         | 798 kB 12.3 MB/s eta 0:00:01\r\u001b[K     |███████████████████████▏        | 808 kB 12.3 MB/s eta 0:00:01\r\u001b[K     |███████████████████████▌        | 819 kB 12.3 MB/s eta 0:00:01\r\u001b[K     |███████████████████████▉        | 829 kB 12.3 MB/s eta 0:00:01\r\u001b[K     |████████████████████████        | 839 kB 12.3 MB/s eta 0:00:01\r\u001b[K     |████████████████████████▍       | 849 kB 12.3 MB/s eta 0:00:01\r\u001b[K     |████████████████████████▊       | 860 kB 12.3 MB/s eta 0:00:01\r\u001b[K     |█████████████████████████       | 870 kB 12.3 MB/s eta 0:00:01\r\u001b[K     |█████████████████████████▎      | 880 kB 12.3 MB/s eta 0:00:01\r\u001b[K     |█████████████████████████▋      | 890 kB 12.3 MB/s eta 0:00:01\r\u001b[K     |█████████████████████████▉      | 901 kB 12.3 MB/s eta 0:00:01\r\u001b[K     |██████████████████████████▏     | 911 kB 12.3 MB/s eta 0:00:01\r\u001b[K     |██████████████████████████▌     | 921 kB 12.3 MB/s eta 0:00:01\r\u001b[K     |██████████████████████████▊     | 931 kB 12.3 MB/s eta 0:00:01\r\u001b[K     |███████████████████████████     | 942 kB 12.3 MB/s eta 0:00:01\r\u001b[K     |███████████████████████████▎    | 952 kB 12.3 MB/s eta 0:00:01\r\u001b[K     |███████████████████████████▋    | 962 kB 12.3 MB/s eta 0:00:01\r\u001b[K     |████████████████████████████    | 972 kB 12.3 MB/s eta 0:00:01\r\u001b[K     |████████████████████████████▏   | 983 kB 12.3 MB/s eta 0:00:01\r\u001b[K     |████████████████████████████▌   | 993 kB 12.3 MB/s eta 0:00:01\r\u001b[K     |████████████████████████████▉   | 1.0 MB 12.3 MB/s eta 0:00:01\r\u001b[K     |█████████████████████████████   | 1.0 MB 12.3 MB/s eta 0:00:01\r\u001b[K     |█████████████████████████████▍  | 1.0 MB 12.3 MB/s eta 0:00:01\r\u001b[K     |█████████████████████████████▊  | 1.0 MB 12.3 MB/s eta 0:00:01\r\u001b[K     |██████████████████████████████  | 1.0 MB 12.3 MB/s eta 0:00:01\r\u001b[K     |██████████████████████████████▎ | 1.1 MB 12.3 MB/s eta 0:00:01\r\u001b[K     |██████████████████████████████▋ | 1.1 MB 12.3 MB/s eta 0:00:01\r\u001b[K     |██████████████████████████████▉ | 1.1 MB 12.3 MB/s eta 0:00:01\r\u001b[K     |███████████████████████████████▏| 1.1 MB 12.3 MB/s eta 0:00:01\r\u001b[K     |███████████████████████████████▍| 1.1 MB 12.3 MB/s eta 0:00:01\r\u001b[K     |███████████████████████████████▊| 1.1 MB 12.3 MB/s eta 0:00:01\r\u001b[K     |████████████████████████████████| 1.1 MB 12.3 MB/s \n",
            "\u001b[?25hRequirement already satisfied: typeguard>=2.7 in /usr/local/lib/python3.7/dist-packages (from tensorflow_addons) (2.7.1)\n",
            "Installing collected packages: tensorflow-addons\n",
            "Successfully installed tensorflow-addons-0.15.0\n"
          ]
        }
      ]
    },
    {
      "cell_type": "code",
      "execution_count": 3,
      "metadata": {
        "id": "nWOcRusQE0Nv"
      },
      "outputs": [],
      "source": [
        "import tensorflow as tf\n",
        "\n",
        "from keras.applications import imagenet_utils\n",
        "from tensorflow.keras import layers\n",
        "from tensorflow import keras\n",
        "\n",
        "import tensorflow_datasets as tfds\n",
        "import tensorflow_addons as tfa\n",
        "\n",
        "import numpy as np"
      ]
    },
    {
      "cell_type": "code",
      "source": [
        "patch_size = 4\n",
        "image_size = 256\n",
        "image_size_large = 270\n",
        "expansion_ratio = 2.0\n",
        "num_classes = 2"
      ],
      "metadata": {
        "id": "SsL2_mOHE6TR"
      },
      "execution_count": 4,
      "outputs": []
    },
    {
      "cell_type": "markdown",
      "source": [
        "### Custom Layers"
      ],
      "metadata": {
        "id": "-dcejOgiKoCB"
      }
    },
    {
      "cell_type": "markdown",
      "source": [
        "#### 1. Inverted residual same as MobilenetV2 [paper](https://arxiv.org/abs/1801.04381v4)"
      ],
      "metadata": {
        "id": "zafcuc7KoR2C"
      }
    },
    {
      "cell_type": "code",
      "source": [
        "class InvertedRes(layers.Layer):\n",
        "  def __init__(self, expand_channels, output_channels, strides=1):\n",
        "    super().__init__()\n",
        "    self.output_channels = output_channels\n",
        "    self.strides = strides\n",
        "    self.expand = keras.models.Sequential([\n",
        "                                          layers.Conv2D(expand_channels, 1, padding=\"same\", use_bias=False),\n",
        "                                          layers.BatchNormalization(),\n",
        "                                          layers.Activation('swish')\n",
        "                                        ], name=\"expand\")\n",
        "    self.dw_conv = keras.models.Sequential([\n",
        "                                          layers.DepthwiseConv2D(3, strides=strides, padding=\"same\", use_bias=False),\n",
        "                                          layers.BatchNormalization(),\n",
        "                                          layers.Activation('swish')\n",
        "                                        ], name=\"depthwise\")\n",
        "    self.pw_conv = keras.models.Sequential([\n",
        "                                          layers.Conv2D(output_channels, 1, padding=\"same\", use_bias=False),\n",
        "                                          layers.BatchNormalization(),\n",
        "                                        ], name='pointwise')\n",
        "  \n",
        "  def call(self, x):\n",
        "    o = self.expand(x)\n",
        "    o = self.dw_conv(o)\n",
        "    o = self.pw_conv(o)\n",
        "    if self.strides == 1 and o.shape[-1] == self.output_channels:\n",
        "      return o + x\n",
        "    return o"
      ],
      "metadata": {
        "id": "K7jVdhzoJalH"
      },
      "execution_count": 5,
      "outputs": []
    },
    {
      "cell_type": "markdown",
      "source": [
        "#### 2. Generic Fully Connected MLP\n",
        "\n",
        "\n"
      ],
      "metadata": {
        "id": "8lxlDQIXpQiU"
      }
    },
    {
      "cell_type": "code",
      "source": [
        "class FullyConnected(layers.Layer):\n",
        "  def __init__(self, hidden_units, dropout_rate):\n",
        "    super().__init__()\n",
        "    l = []\n",
        "    for units in hidden_units:\n",
        "      l.append(layers.Dense(units, activation=tf.nn.swish))\n",
        "      l.append(layers.Dropout(dropout_rate))\n",
        "    self.mlp = keras.models.Sequential(l)\n",
        "\n",
        "  def call(self, x):\n",
        "    return self.mlp(x)"
      ],
      "metadata": {
        "id": "9YF4aVRmLuUH"
      },
      "execution_count": 6,
      "outputs": []
    },
    {
      "cell_type": "markdown",
      "source": [
        "### **Transformer in **action****\n",
        "\n"
      ],
      "metadata": {
        "id": "mOtastXOpZMa"
      }
    },
    {
      "cell_type": "markdown",
      "source": [
        "![Screenshot from 2022-01-04 02-08-00.png](data:image/png;base64,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)"
      ],
      "metadata": {
        "id": "BNi_oXKIqgux"
      }
    },
    {
      "cell_type": "code",
      "source": [
        "class Transformer(layers.Layer):\n",
        "  def __init__(self, projection_dim, heads=2):\n",
        "    super().__init__()\n",
        "    self.norm1 = layers.LayerNormalization(epsilon=1e-6)\n",
        "    self.attention = layers.MultiHeadAttention(num_heads=heads, key_dim=projection_dim, dropout=0.1)\n",
        "    self.norm2 = layers.LayerNormalization(epsilon=1e-6)\n",
        "  \n",
        "  def build(self, input_shape):\n",
        "    self.mlp = FullyConnected([input_shape[-1] * 2, input_shape[-1]], dropout_rate=0.1)\n",
        "\n",
        "\n",
        "  def call(self, x):\n",
        "    x1 = self.norm1(x)\n",
        "    att = self.attention(x1, x1)\n",
        "    x2 = x + att\n",
        "    x3 = self.norm2(x2)\n",
        "    x3 = self.mlp(x3)\n",
        "    return x3 + x2"
      ],
      "metadata": {
        "id": "I42ET8hyM8Es"
      },
      "execution_count": 7,
      "outputs": []
    },
    {
      "cell_type": "markdown",
      "source": [
        "### 4. **MobileVit Block**\n",
        "\n",
        "\n"
      ],
      "metadata": {
        "id": "15I9dsH4pebx"
      }
    },
    {
      "cell_type": "markdown",
      "source": [
        "![Screenshot from 2022-01-04 02-05-48.png](data:image/png;base64,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)"
      ],
      "metadata": {
        "id": "Co1wUCutqDbH"
      }
    },
    {
      "cell_type": "code",
      "source": [
        "class MobileVitBlock(layers.Layer):\n",
        "  def __init__(self, num_blocks, projection_dim, strides=1):\n",
        "    super().__init__()\n",
        "    self.projection_dim = projection_dim\n",
        "    self.conv_local = keras.models.Sequential([\n",
        "                                           layers.Conv2D(projection_dim, 3, padding=\"same\", strides=strides, activation=tf.nn.swish),\n",
        "                                           layers.Conv2D(projection_dim, 1, padding=\"same\", strides=strides, activation=tf.nn.swish),\n",
        "                                           ])\n",
        "    self.transformers = keras.models.Sequential([Transformer(projection_dim, heads=2) for i in range(num_blocks)])\n",
        "    self.conv_folded = layers.Conv2D(projection_dim, 1, padding=\"same\", strides=strides, activation=tf.nn.swish)\n",
        "    self.conv_local_global = layers.Conv2D(projection_dim, 3, padding=\"same\", strides=strides, activation=tf.nn.swish)\n",
        "\n",
        "  def build(self, input_shape):\n",
        "    num_patches = int((input_shape[1] * input_shape[2]) / patch_size)\n",
        "    self.unfold = layers.Reshape((patch_size, num_patches, self.projection_dim))\n",
        "    self.fold = layers.Reshape((input_shape[1], input_shape[2], self.projection_dim))\n",
        "\n",
        "  def call(self, x):\n",
        "    local_features = self.conv_local(x)\n",
        "    patches = self.unfold(local_features)\n",
        "    global_features = self.transformers(patches)\n",
        "    folded_features = self.fold(global_features)\n",
        "    folded_features = self.conv_folded(folded_features)\n",
        "    local_global_features = tf.concat([x, folded_features], axis=-1)\n",
        "    local_global_features = self.conv_local_global(local_global_features)\n",
        "    return local_global_features"
      ],
      "metadata": {
        "id": "OtXcRbKPNB_I"
      },
      "execution_count": 8,
      "outputs": []
    },
    {
      "cell_type": "markdown",
      "source": [
        "### MobileVit Model "
      ],
      "metadata": {
        "id": "eTM0nOj6pi7Q"
      }
    },
    {
      "cell_type": "markdown",
      "source": [
        "![Screenshot from 2022-01-04 02-02-00.png](data:image/png;base64,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)"
      ],
      "metadata": {
        "id": "JRW5PfW4pq5Z"
      }
    },
    {
      "cell_type": "code",
      "source": [
        "class MobileVit(keras.models.Model):\n",
        "  def __init__(self, num_classes=num_classes):\n",
        "    super().__init__()\n",
        "    self.features = keras.models.Sequential([ layers.Rescaling(scale=1.0 / 255),\n",
        "                                              layers.Conv2D(16, 3, padding=\"same\", strides=(2, 2), activation=tf.nn.swish),\n",
        "                                              InvertedRes(16 * expansion_ratio, 16, strides=1),\n",
        "                                              InvertedRes(16 * expansion_ratio, 24, strides=2),\n",
        "                                              InvertedRes(24 * expansion_ratio, 24, strides=1),\n",
        "                                              InvertedRes(24 * expansion_ratio, 24, strides=1),\n",
        "                                              InvertedRes(24 * expansion_ratio, 48, strides=2),\n",
        "                                              MobileVitBlock(2, 64, strides=1),\n",
        "                                              InvertedRes(64 * expansion_ratio, 64, strides=2),\n",
        "                                              MobileVitBlock(4, 80, strides=1),\n",
        "                                              InvertedRes(80 * expansion_ratio, 80, strides=2),\n",
        "                                              MobileVitBlock(3, 96, strides=1),\n",
        "                                              layers.Conv2D(320, 1, padding=\"same\", strides=(1, 1), activation=tf.nn.swish)\n",
        "                                            ], name = \"features\")\n",
        "    \n",
        "    self.head = keras.models.Sequential([layers.GlobalAvgPool2D(),\n",
        "                                         layers.Dense(num_classes, activation=\"softmax\")\n",
        "                                         ], name=\"logits\")\n",
        "    \n",
        "  def call(self, x):\n",
        "    features = self.features(x)\n",
        "    logits = self.head(features)\n",
        "    return logits\n"
      ],
      "metadata": {
        "id": "iebZsXXnWJbA"
      },
      "execution_count": 9,
      "outputs": []
    },
    {
      "cell_type": "code",
      "source": [
        "model = MobileVit()"
      ],
      "metadata": {
        "id": "PGCbLcHCZABP"
      },
      "execution_count": 10,
      "outputs": []
    },
    {
      "cell_type": "code",
      "source": [
        "model.build((None, 256, 256, 3))"
      ],
      "metadata": {
        "id": "0TgZez92ZDoW"
      },
      "execution_count": 11,
      "outputs": []
    },
    {
      "cell_type": "code",
      "source": [
        "model.summary()"
      ],
      "metadata": {
        "colab": {
          "base_uri": "https://localhost:8080/"
        },
        "id": "vqGWLxJtbz50",
        "outputId": "1c48fe85-10c0-4687-d41c-064cede3d8a3"
      },
      "execution_count": 12,
      "outputs": [
        {
          "output_type": "stream",
          "name": "stdout",
          "text": [
            "Model: \"mobile_vit\"\n",
            "_________________________________________________________________\n",
            " Layer (type)                Output Shape              Param #   \n",
            "=================================================================\n",
            " features (Sequential)       (None, 8, 8, 320)         1344464   \n",
            "                                                                 \n",
            " logits (Sequential)         (None, 2)                 642       \n",
            "                                                                 \n",
            "=================================================================\n",
            "Total params: 1,345,106\n",
            "Trainable params: 1,342,562\n",
            "Non-trainable params: 2,544\n",
            "_________________________________________________________________\n"
          ]
        }
      ]
    },
    {
      "cell_type": "markdown",
      "source": [
        "### Dataset"
      ],
      "metadata": {
        "id": "EBAvs_e-kVdt"
      }
    },
    {
      "cell_type": "code",
      "source": [
        "def preprocess_train(image, label):\n",
        "  image = tf.image.resize(image, (image_size_large, image_size_large))\n",
        "  image = tf.image.random_crop(image, (image_size, image_size, 3))\n",
        "  image = tf.image.random_flip_left_right(image)\n",
        "  label = tf.one_hot(label, depth=num_classes)\n",
        "  return image, label\n",
        "\n",
        "def preprocess_val(image, label):\n",
        "  image = tf.image.resize(image, (image_size, image_size))\n",
        "  label = tf.one_hot(label, depth=num_classes)\n",
        "  return image, label\n",
        "\n",
        "def get_dataset(dataset, train=True, bs=64):\n",
        "    if train:\n",
        "      dataset = dataset.shuffle(bs * 10)\n",
        "      dataset = dataset.map(preprocess_train, num_parallel_calls=tf.data.experimental.AUTOTUNE)\n",
        "    else:\n",
        "      dataset = dataset.map(preprocess_val, num_parallel_calls=tf.data.experimental.AUTOTUNE)\n",
        "    return dataset.batch(bs).prefetch(tf.data.experimental.AUTOTUNE)"
      ],
      "metadata": {
        "id": "_TA0rSoLkZI-"
      },
      "execution_count": 13,
      "outputs": []
    },
    {
      "cell_type": "code",
      "source": [
        "train_dataset, val_dataset = tfds.load(\"cats_vs_dogs\", split=[\"train[:90%]\", \"train[90%:]\"], as_supervised=True)"
      ],
      "metadata": {
        "colab": {
          "base_uri": "https://localhost:8080/",
          "height": 217,
          "referenced_widgets": [
            "10dbfda2d5b342eab0188070d969ee63",
            "7f3b6acb4324469289524539367fc81a",
            "71c9e288679c4fd8acc3f23dc88be1b2",
            "4d85757d9d904c6bbdc9a1ee2675772f",
            "b73fe03d29694381869119bb984250e2",
            "a8f10c948612491c8c34c6269a45d73e",
            "8a999aa94c3041e6bffbe1f70d048efc",
            "abad63d875724ff6a16efa3e2773cda7",
            "c3e65cd5364643068222566c27ea3d55",
            "dc80a82a88f44460b92f63276cf10340",
            "45e39b81a25e4de692d07b102f8571ac",
            "0f2ad784803242c2bfa35e9e04a58bed",
            "7173feac640c4b189ffd38c974688098",
            "2a650494f8e74751b75e9d4e20ca8cbe",
            "8ba806ffccf1428b82671476dc49baed",
            "8e0b68cbc6a44a3e89df05c5db69800c",
            "55e8928030f3420187d683bb9d6f2664",
            "cfa329deaab44ac58d6b2cf7e4dde47f",
            "13e3bb12d9db4633bbd186ea40dd30c9",
            "5e07873186d04912bfd9e531c80c8b63",
            "0988c59ab3ef4a799548b42b11ae5ab6",
            "066196b6395f4d94b04b43b70a362478",
            "73fc886bd36c4c088f56559d91155737",
            "11837acd3276435a91775c1944819a90",
            "98e8bfc61717491386315c902a30b3f0",
            "a803220a77574c54807300f30eafb9cd",
            "4e011cbf734f41e7bd3dc5aa3590caa0",
            "82dbf1b782ea43119730b30ea3412397",
            "2bb2cf5e6c914ee5a26d80f658940907",
            "c442323f7a804b8fb2b73ac30af4920b",
            "bea33931ad7d4aa582f0f21edd1749ed",
            "167a4cf4674f41df9356e3a36d30b586",
            "d930b2aab20548b7a28a805720958209",
            "b25feab6f80a440586782542b9565d3f",
            "3396c4d703c34da19b7f0a5e0a7c8484",
            "59c61a75faa24c13bb7c4e9946223da1",
            "b1ca92d29c324ae39eb627b3917787d5",
            "e1c3526edc7448aaab344df5c419bad8",
            "620fd0a35b044a208d86ddc52da408fc",
            "e1de6654da1a47729d33a7379117f7d8",
            "eab65f956a74495ba97615d8fd6c2277",
            "a3cee2f6320e48a49aac46a5a9952346",
            "59e3a1353c104d72a84f898899861e6a",
            "51ded203bc464f8db63cfe8331f2dfe1"
          ]
        },
        "id": "YGddjfvMkacO",
        "outputId": "19312a74-39bd-4185-8798-2c4340154638"
      },
      "execution_count": 14,
      "outputs": [
        {
          "output_type": "stream",
          "name": "stdout",
          "text": [
            "\u001b[1mDownloading and preparing dataset cats_vs_dogs/4.0.0 (download: 786.68 MiB, generated: Unknown size, total: 786.68 MiB) to /root/tensorflow_datasets/cats_vs_dogs/4.0.0...\u001b[0m\n"
          ]
        },
        {
          "output_type": "display_data",
          "data": {
            "application/vnd.jupyter.widget-view+json": {
              "model_id": "10dbfda2d5b342eab0188070d969ee63",
              "version_minor": 0,
              "version_major": 2
            },
            "text/plain": [
              "Dl Completed...: 0 url [00:00, ? url/s]"
            ]
          },
          "metadata": {}
        },
        {
          "output_type": "display_data",
          "data": {
            "application/vnd.jupyter.widget-view+json": {
              "model_id": "0f2ad784803242c2bfa35e9e04a58bed",
              "version_minor": 0,
              "version_major": 2
            },
            "text/plain": [
              "Dl Size...: 0 MiB [00:00, ? MiB/s]"
            ]
          },
          "metadata": {}
        },
        {
          "output_type": "stream",
          "name": "stdout",
          "text": [
            "\n",
            "\n"
          ]
        },
        {
          "output_type": "display_data",
          "data": {
            "application/vnd.jupyter.widget-view+json": {
              "model_id": "73fc886bd36c4c088f56559d91155737",
              "version_minor": 0,
              "version_major": 2
            },
            "text/plain": [
              "0 examples [00:00, ? examples/s]"
            ]
          },
          "metadata": {}
        },
        {
          "output_type": "stream",
          "name": "stderr",
          "text": [
            "WARNING:absl:1738 images were corrupted and were skipped\n"
          ]
        },
        {
          "output_type": "stream",
          "name": "stdout",
          "text": [
            "Shuffling and writing examples to /root/tensorflow_datasets/cats_vs_dogs/4.0.0.incompleteI07XWW/cats_vs_dogs-train.tfrecord\n"
          ]
        },
        {
          "output_type": "display_data",
          "data": {
            "application/vnd.jupyter.widget-view+json": {
              "model_id": "b25feab6f80a440586782542b9565d3f",
              "version_minor": 0,
              "version_major": 2
            },
            "text/plain": [
              "  0%|          | 0/23262 [00:00<?, ? examples/s]"
            ]
          },
          "metadata": {}
        },
        {
          "output_type": "stream",
          "name": "stdout",
          "text": [
            "\u001b[1mDataset cats_vs_dogs downloaded and prepared to /root/tensorflow_datasets/cats_vs_dogs/4.0.0. Subsequent calls will reuse this data.\u001b[0m\n"
          ]
        }
      ]
    },
    {
      "cell_type": "code",
      "source": [
        "num_train = train_dataset.cardinality()\n",
        "num_val = val_dataset.cardinality()\n",
        "print(f\"Train : {num_train}\")\n",
        "print(f\"Validation : {num_val}\")\n",
        "\n",
        "train_dataset = get_dataset(train_dataset, train=True)\n",
        "val_dataset = get_dataset(val_dataset, train=False)"
      ],
      "metadata": {
        "colab": {
          "base_uri": "https://localhost:8080/"
        },
        "id": "95INZe5ikda4",
        "outputId": "9009745a-157e-41df-c4a8-b7c33ca7a6b7"
      },
      "execution_count": 15,
      "outputs": [
        {
          "output_type": "stream",
          "name": "stdout",
          "text": [
            "Train : 20936\n",
            "Validation : 2326\n"
          ]
        }
      ]
    },
    {
      "cell_type": "markdown",
      "source": [
        "### Train the model"
      ],
      "metadata": {
        "id": "epIrvCC-kgFw"
      }
    },
    {
      "cell_type": "code",
      "source": [
        "\n",
        "learning_rate = 0.002\n",
        "label_smoothing_factor = 0.1\n",
        "epochs = 30\n",
        "\n",
        "optimizer = keras.optimizers.Adam(learning_rate=learning_rate)\n",
        "loss_fn = keras.losses.CategoricalCrossentropy(label_smoothing=label_smoothing_factor)\n",
        "\n",
        "\n",
        "def run_experiment(epochs=epochs):\n",
        "    model.compile(optimizer=optimizer, loss=loss_fn, metrics=[\"accuracy\"])\n",
        "\n",
        "    checkpoint_filepath = \"/tmp/checkpoint\"\n",
        "    checkpoint_callback = keras.callbacks.ModelCheckpoint(\n",
        "        checkpoint_filepath,\n",
        "        monitor=\"val_accuracy\",\n",
        "        save_best_only=True,\n",
        "        save_weights_only=True,\n",
        "    )\n",
        "\n",
        "    history = model.fit(\n",
        "        train_dataset,\n",
        "        validation_data=val_dataset,\n",
        "        epochs=epochs,\n",
        "        callbacks=[checkpoint_callback],\n",
        "    )\n",
        "    model.load_weights(checkpoint_filepath)\n",
        "    _, accuracy = model.evaluate(val_dataset)\n",
        "    print(f\"Validation accuracy: {round(accuracy * 100, 2)}%\")\n",
        "    return model, history\n",
        "\n",
        "\n",
        "model, history = run_experiment()\n"
      ],
      "metadata": {
        "colab": {
          "base_uri": "https://localhost:8080/"
        },
        "id": "ScL4uXIlj6IR",
        "outputId": "e830c580-ee01-4a3f-d202-2e8bbb8933ca"
      },
      "execution_count": null,
      "outputs": [
        {
          "output_type": "stream",
          "name": "stdout",
          "text": [
            "Epoch 1/30\n",
            "328/328 [==============================] - 501s 1s/step - loss: 0.6334 - accuracy: 0.6571 - val_loss: 0.9362 - val_accuracy: 0.4987\n",
            "Epoch 2/30\n",
            "328/328 [==============================] - 474s 1s/step - loss: 0.5839 - accuracy: 0.7192 - val_loss: 1.1201 - val_accuracy: 0.5060\n",
            "Epoch 3/30\n",
            "328/328 [==============================] - 474s 1s/step - loss: 0.5587 - accuracy: 0.7447 - val_loss: 0.9140 - val_accuracy: 0.5963\n",
            "Epoch 4/30\n",
            "328/328 [==============================] - 474s 1s/step - loss: 0.5107 - accuracy: 0.7877 - val_loss: 0.6835 - val_accuracy: 0.6952\n",
            "Epoch 5/30\n",
            "328/328 [==============================] - 474s 1s/step - loss: 0.4673 - accuracy: 0.8222 - val_loss: 0.4407 - val_accuracy: 0.8469\n",
            "Epoch 6/30\n",
            "328/328 [==============================] - 474s 1s/step - loss: 0.4423 - accuracy: 0.8386 - val_loss: 0.4508 - val_accuracy: 0.8332\n",
            "Epoch 7/30\n",
            "328/328 [==============================] - 473s 1s/step - loss: 0.4130 - accuracy: 0.8621 - val_loss: 0.6187 - val_accuracy: 0.7635\n",
            "Epoch 8/30\n",
            "328/328 [==============================] - 475s 1s/step - loss: 0.4010 - accuracy: 0.8697 - val_loss: 0.4109 - val_accuracy: 0.8637\n",
            "Epoch 9/30\n",
            "328/328 [==============================] - 474s 1s/step - loss: 0.3912 - accuracy: 0.8770 - val_loss: 0.4717 - val_accuracy: 0.8530\n",
            "Epoch 10/30\n",
            "328/328 [==============================] - 474s 1s/step - loss: 0.3833 - accuracy: 0.8811 - val_loss: 0.4194 - val_accuracy: 0.8616\n",
            "Epoch 11/30\n",
            "328/328 [==============================] - 474s 1s/step - loss: 0.3573 - accuracy: 0.8981 - val_loss: 0.4284 - val_accuracy: 0.8629\n",
            "Epoch 12/30\n",
            "328/328 [==============================] - 474s 1s/step - loss: 0.3508 - accuracy: 0.9066 - val_loss: 0.3969 - val_accuracy: 0.8732\n",
            "Epoch 13/30\n",
            "328/328 [==============================] - 473s 1s/step - loss: 0.3437 - accuracy: 0.9103 - val_loss: 0.5559 - val_accuracy: 0.7975\n",
            "Epoch 14/30\n",
            "328/328 [==============================] - 473s 1s/step - loss: 0.3318 - accuracy: 0.9194 - val_loss: 0.3686 - val_accuracy: 0.8878\n",
            "Epoch 15/30\n",
            "328/328 [==============================] - 473s 1s/step - loss: 0.3316 - accuracy: 0.9169 - val_loss: 0.4868 - val_accuracy: 0.8409\n",
            "Epoch 16/30\n",
            "244/328 [=====================>........] - ETA: 1:57 - loss: 0.3193 - accuracy: 0.9255"
          ]
        }
      ]
    },
    {
      "cell_type": "code",
      "source": [
        ""
      ],
      "metadata": {
        "id": "QZ9NJDfClAFO"
      },
      "execution_count": null,
      "outputs": []
    }
  ]
}